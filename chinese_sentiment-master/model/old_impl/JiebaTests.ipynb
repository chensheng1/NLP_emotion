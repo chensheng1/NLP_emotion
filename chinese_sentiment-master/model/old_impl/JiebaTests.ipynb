{
 "cells": [
  {
   "cell_type": "code",
   "execution_count": 1,
   "metadata": {},
   "outputs": [],
   "source": [
    "import jieba"
   ]
  },
  {
   "cell_type": "code",
   "execution_count": 4,
   "metadata": {},
   "outputs": [
    {
     "name": "stdout",
     "output_type": "stream",
     "text": [
      "今天, 今天天气, 天天, 天气, 很, 好\n"
     ]
    }
   ],
   "source": [
    "seg_list = jieba.cut(\"今天天气很好\", cut_all=True)\n",
    "print \", \".join(seg_list)"
   ]
  },
  {
   "cell_type": "code",
   "execution_count": 5,
   "metadata": {},
   "outputs": [
    {
     "name": "stdout",
     "output_type": "stream",
     "text": [
      "今天天气, 很, 好\n"
     ]
    }
   ],
   "source": [
    "seg_list = jieba.cut(\"今天天气很好\", cut_all=False)\n",
    "print \", \".join(seg_list)"
   ]
  },
  {
   "cell_type": "code",
   "execution_count": 7,
   "metadata": {},
   "outputs": [
    {
     "name": "stdout",
     "output_type": "stream",
     "text": [
      "今天, 天天, 天气, 今天天气, 很, 好\n"
     ]
    }
   ],
   "source": [
    "seg_list = jieba.cut_for_search(\"今天天气很好\")\n",
    "print \", \".join(seg_list)"
   ]
  },
  {
   "cell_type": "code",
   "execution_count": null,
   "metadata": {},
   "outputs": [],
   "source": []
  }
 ],
 "metadata": {
  "kernelspec": {
   "display_name": "Tensorflow",
   "language": "python",
   "name": "tfenv"
  },
  "language_info": {
   "codemirror_mode": {
    "name": "ipython",
    "version": 2
   },
   "file_extension": ".py",
   "mimetype": "text/x-python",
   "name": "python",
   "nbconvert_exporter": "python",
   "pygments_lexer": "ipython2",
   "version": "2.7.15"
  }
 },
 "nbformat": 4,
 "nbformat_minor": 2
}
